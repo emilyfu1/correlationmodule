{
 "cells": [
  {
   "cell_type": "code",
   "execution_count": 11,
   "metadata": {},
   "outputs": [],
   "source": [
    "import pandas as pd\n",
    "import numpy as np\n",
    "import matplotlib.pyplot as plt\n",
    "import matplotlib as matplotlib\n",
    "import os\n",
    "from statsmodels.multivariate.pca import PCA\n",
    "from sklearn.preprocessing import StandardScaler\n",
    "\n",
    "from dotenv import dotenv_values, find_dotenv\n",
    "import sys\n",
    "import importlib"
   ]
  },
  {
   "cell_type": "code",
   "execution_count": 12,
   "metadata": {},
   "outputs": [
    {
     "data": {
      "text/plain": [
       "<module 'regressions' from 'c:\\\\Users\\\\fuem\\\\Documents\\\\correlations_comovement\\\\regressions.py'>"
      ]
     },
     "execution_count": 12,
     "metadata": {},
     "output_type": "execute_result"
    }
   ],
   "source": [
    "# adding base folder to the system path\n",
    "sys.path.insert(0, os.path.abspath(os.path.join(os.getcwd(), '..')) + '\\\\')\n",
    "\n",
    "import preparecorrelations as pc\n",
    "import regressions as reg\n",
    "\n",
    "# special import for kernel\n",
    "importlib.reload(pc)\n",
    "importlib.reload(reg)"
   ]
  },
  {
   "cell_type": "code",
   "execution_count": 13,
   "metadata": {},
   "outputs": [],
   "source": [
    "# this looks for your configuration file and then reads it as a dictionary\n",
    "config = dotenv_values(find_dotenv())\n",
    "\n",
    "# set path using the dictionary key for which one you want\n",
    "correlationpath = os.path.abspath(config[\"CORRELATIONDATA\"]) + '\\\\'"
   ]
  },
  {
   "cell_type": "code",
   "execution_count": 14,
   "metadata": {},
   "outputs": [],
   "source": [
    "# the developed countries included in the gdp/consumption series\n",
    "oecd_countries = [\"Australia\", \"Austria\", \"Belgium\", \"Canada\", \"Denmark\", \"Finland\", \"France\", \"Germany\", \"Greece\", \"Iceland\", \"Ireland\", \n",
    "                  \"Italy\", \"Japan\", \"Luxembourg\", \"Netherlands\", \"Norway\", \"Portugal\", \"Spain\", \"Sweden\", \"Switzerland\", \n",
    "                  \"Turkey\", \"U.K.\", \"U.S.\"] \n",
    "\n",
    "# the EMEs included in the gdp/consumption series\n",
    "MSCI_EM_countries = [\"Brazil\", \"Chile\", \"China\", \"Colombia\", \"Czech Republic\", \"Egypt\", \"Greece\", \"Hungary\", \"India\", \n",
    "                     \"Indonesia\", \"South Korea\", \"Kuwait\", \"Malaysia\", \"Mexico\", \"Peru\", \"Philippines\", \"Poland\", \"Qatar\", \n",
    "                     \"Saudi Arabia\", \"South Africa\", \"Taiwan\", \"Thailand\", \"Turkey\", \"United Arab Emirates\"]\n",
    "\n",
    "# some countries we wanted to remove from the GDP/consumption series for not having enough data (decided previously)\n",
    "to_remove = ['Egypt', 'Saudi Arabia', 'Malaysia', 'Colombia', 'Qatar', 'Kuwait', 'China']\n",
    "\n",
    "# the countries that will be used for the gdp/consumption stuff\n",
    "original_countries = list(set(oecd_countries + MSCI_EM_countries) - set(to_remove))"
   ]
  },
  {
   "cell_type": "code",
   "execution_count": 15,
   "metadata": {},
   "outputs": [
    {
     "ename": "X13NotFoundError",
     "evalue": "x12a and x13as not found on path. Give the path, put them on PATH, or set the X12PATH or X13PATH environmental variable.",
     "output_type": "error",
     "traceback": [
      "\u001b[1;31m---------------------------------------------------------------------------\u001b[0m",
      "\u001b[1;31mX13NotFoundError\u001b[0m                          Traceback (most recent call last)",
      "Cell \u001b[1;32mIn[15], line 7\u001b[0m\n\u001b[0;32m      4\u001b[0m \u001b[39m# haver real gdp\u001b[39;00m\n\u001b[0;32m      5\u001b[0m rgdp \u001b[39m=\u001b[39m pd\u001b[39m.\u001b[39mread_excel(xlsx, \u001b[39m'\u001b[39m\u001b[39mReal GDP\u001b[39m\u001b[39m'\u001b[39m)\n\u001b[1;32m----> 7\u001b[0m rgdp_detrended \u001b[39m=\u001b[39m pc\u001b[39m.\u001b[39mPrepare_Correlations(pc\u001b[39m.\u001b[39;49mSeasonalAdjustment(pc\u001b[39m.\u001b[39;49mfixCols(rgdp, original_countries)), detrending\u001b[39m=\u001b[39m\u001b[39m'\u001b[39m\u001b[39mHP Filter\u001b[39m\u001b[39m'\u001b[39m)\u001b[39m.\u001b[39mdetrend(start_date\u001b[39m=\u001b[39m\u001b[39m\"\u001b[39m\u001b[39m1998-01-01\u001b[39m\u001b[39m\"\u001b[39m, end_date\u001b[39m=\u001b[39m\u001b[39m\"\u001b[39m\u001b[39m2021-12-31\u001b[39m\u001b[39m\"\u001b[39m)\n",
      "File \u001b[1;32mc:\\Users\\fuem\\Documents\\correlations_comovement\\preparecorrelations.py:55\u001b[0m, in \u001b[0;36mSeasonalAdjustment\u001b[1;34m(df)\u001b[0m\n\u001b[0;32m     52\u001b[0m toSA \u001b[39m=\u001b[39m toSA[toSA\u001b[39m.\u001b[39mnotnull()]\n\u001b[0;32m     54\u001b[0m \u001b[39m# now lets seasonally adjust the data\u001b[39;00m\n\u001b[1;32m---> 55\u001b[0m SAdata \u001b[39m=\u001b[39m X13\u001b[39m.\u001b[39;49mx13_arima_analysis(toSA,(\u001b[39m2\u001b[39;49m,\u001b[39m1\u001b[39;49m),maxdiff\u001b[39m=\u001b[39;49m(\u001b[39m2\u001b[39;49m,\u001b[39m1\u001b[39;49m),exog\u001b[39m=\u001b[39;49m\u001b[39mNone\u001b[39;49;00m,log\u001b[39m=\u001b[39;49m\u001b[39mNone\u001b[39;49;00m,outlier\u001b[39m=\u001b[39;49m\u001b[39mTrue\u001b[39;49;00m,trading\u001b[39m=\u001b[39;49m\u001b[39mFalse\u001b[39;49;00m,\n\u001b[0;32m     56\u001b[0m                                 forecast_years\u001b[39m=\u001b[39;49m\u001b[39mNone\u001b[39;49;00m,retspec\u001b[39m=\u001b[39;49m\u001b[39mFalse\u001b[39;49;00m,speconly\u001b[39m=\u001b[39;49m\u001b[39mFalse\u001b[39;49;00m,start\u001b[39m=\u001b[39;49mtoSA\u001b[39m.\u001b[39;49mindex[\u001b[39m0\u001b[39;49m],\n\u001b[0;32m     57\u001b[0m                                 prefer_x13\u001b[39m=\u001b[39;49m\u001b[39mTrue\u001b[39;49;00m,freq\u001b[39m=\u001b[39;49m\u001b[39m'\u001b[39;49m\u001b[39mQ\u001b[39;49m\u001b[39m'\u001b[39;49m)\n\u001b[0;32m     58\u001b[0m \u001b[39m# re-write data with seasonally adjusted data\u001b[39;00m\n\u001b[0;32m     59\u001b[0m df\u001b[39m.\u001b[39mloc[:,country] \u001b[39m=\u001b[39m SAdata\u001b[39m.\u001b[39mseasadj\n",
      "File \u001b[1;32mc:\\Users\\fuem\\.conda\\envs\\myenv\\Lib\\site-packages\\pandas\\util\\_decorators.py:211\u001b[0m, in \u001b[0;36mdeprecate_kwarg.<locals>._deprecate_kwarg.<locals>.wrapper\u001b[1;34m(*args, **kwargs)\u001b[0m\n\u001b[0;32m    209\u001b[0m     \u001b[39melse\u001b[39;00m:\n\u001b[0;32m    210\u001b[0m         kwargs[new_arg_name] \u001b[39m=\u001b[39m new_arg_value\n\u001b[1;32m--> 211\u001b[0m \u001b[39mreturn\u001b[39;00m func(\u001b[39m*\u001b[39;49margs, \u001b[39m*\u001b[39;49m\u001b[39m*\u001b[39;49mkwargs)\n",
      "File \u001b[1;32mc:\\Users\\fuem\\.conda\\envs\\myenv\\Lib\\site-packages\\statsmodels\\tsa\\x13.py:419\u001b[0m, in \u001b[0;36mx13_arima_analysis\u001b[1;34m(endog, maxorder, maxdiff, diff, exog, log, outlier, trading, forecast_periods, retspec, speconly, start, freq, print_stdout, x12path, prefer_x13, tempdir)\u001b[0m\n\u001b[0;32m    321\u001b[0m \u001b[39m@deprecate_kwarg\u001b[39m(\u001b[39m'\u001b[39m\u001b[39mforecast_years\u001b[39m\u001b[39m'\u001b[39m, \u001b[39m'\u001b[39m\u001b[39mforecast_periods\u001b[39m\u001b[39m'\u001b[39m)\n\u001b[0;32m    322\u001b[0m \u001b[39mdef\u001b[39;00m \u001b[39mx13_arima_analysis\u001b[39m(endog, maxorder\u001b[39m=\u001b[39m(\u001b[39m2\u001b[39m, \u001b[39m1\u001b[39m), maxdiff\u001b[39m=\u001b[39m(\u001b[39m2\u001b[39m, \u001b[39m1\u001b[39m), diff\u001b[39m=\u001b[39m\u001b[39mNone\u001b[39;00m,\n\u001b[0;32m    323\u001b[0m                        exog\u001b[39m=\u001b[39m\u001b[39mNone\u001b[39;00m, log\u001b[39m=\u001b[39m\u001b[39mNone\u001b[39;00m, outlier\u001b[39m=\u001b[39m\u001b[39mTrue\u001b[39;00m, trading\u001b[39m=\u001b[39m\u001b[39mFalse\u001b[39;00m,\n\u001b[1;32m   (...)\u001b[0m\n\u001b[0;32m    326\u001b[0m                        print_stdout\u001b[39m=\u001b[39m\u001b[39mFalse\u001b[39;00m, x12path\u001b[39m=\u001b[39m\u001b[39mNone\u001b[39;00m, prefer_x13\u001b[39m=\u001b[39m\u001b[39mTrue\u001b[39;00m,\n\u001b[0;32m    327\u001b[0m                        tempdir\u001b[39m=\u001b[39m\u001b[39mNone\u001b[39;00m):\n\u001b[0;32m    328\u001b[0m \u001b[39m    \u001b[39m\u001b[39m\"\"\"\u001b[39;00m\n\u001b[0;32m    329\u001b[0m \u001b[39m    Perform x13-arima analysis for monthly or quarterly data.\u001b[39;00m\n\u001b[0;32m    330\u001b[0m \n\u001b[1;32m   (...)\u001b[0m\n\u001b[0;32m    417\u001b[0m \u001b[39m    back in.\u001b[39;00m\n\u001b[0;32m    418\u001b[0m \u001b[39m    \"\"\"\u001b[39;00m\n\u001b[1;32m--> 419\u001b[0m     x12path \u001b[39m=\u001b[39m _check_x12(x12path)\n\u001b[0;32m    421\u001b[0m     \u001b[39mif\u001b[39;00m \u001b[39mnot\u001b[39;00m \u001b[39misinstance\u001b[39m(endog, (pd\u001b[39m.\u001b[39mDataFrame, pd\u001b[39m.\u001b[39mSeries)):\n\u001b[0;32m    422\u001b[0m         \u001b[39mif\u001b[39;00m start \u001b[39mis\u001b[39;00m \u001b[39mNone\u001b[39;00m \u001b[39mor\u001b[39;00m freq \u001b[39mis\u001b[39;00m \u001b[39mNone\u001b[39;00m:\n",
      "File \u001b[1;32mc:\\Users\\fuem\\.conda\\envs\\myenv\\Lib\\site-packages\\statsmodels\\tsa\\x13.py:88\u001b[0m, in \u001b[0;36m_check_x12\u001b[1;34m(x12path)\u001b[0m\n\u001b[0;32m     86\u001b[0m x12path \u001b[39m=\u001b[39m _find_x12(x12path)\n\u001b[0;32m     87\u001b[0m \u001b[39mif\u001b[39;00m \u001b[39mnot\u001b[39;00m x12path:\n\u001b[1;32m---> 88\u001b[0m     \u001b[39mraise\u001b[39;00m X13NotFoundError(\u001b[39m\"\u001b[39m\u001b[39mx12a and x13as not found on path. Give the \u001b[39m\u001b[39m\"\u001b[39m\n\u001b[0;32m     89\u001b[0m                            \u001b[39m\"\u001b[39m\u001b[39mpath, put them on PATH, or set the \u001b[39m\u001b[39m\"\u001b[39m\n\u001b[0;32m     90\u001b[0m                            \u001b[39m\"\u001b[39m\u001b[39mX12PATH or X13PATH environmental variable.\u001b[39m\u001b[39m\"\u001b[39m)\n\u001b[0;32m     91\u001b[0m \u001b[39mreturn\u001b[39;00m x12path\n",
      "\u001b[1;31mX13NotFoundError\u001b[0m: x12a and x13as not found on path. Give the path, put them on PATH, or set the X12PATH or X13PATH environmental variable."
     ]
    }
   ],
   "source": [
    "# import haver data\n",
    "xlsx = pd.ExcelFile(correlationpath + \"gdp_consumption_haver_final.xlsx\")\n",
    "\n",
    "# haver real gdp\n",
    "rgdp = pd.read_excel(xlsx, 'Real GDP')\n",
    "\n",
    "rgdp_detrended = pc.Prepare_Correlations(pc.SeasonalAdjustment(pc.fixCols(rgdp, original_countries)), detrending='HP Filter').detrend(start_date=\"1998-01-01\", end_date=\"2021-12-31\")"
   ]
  }
 ],
 "metadata": {
  "kernelspec": {
   "display_name": "myenv",
   "language": "python",
   "name": "python3"
  },
  "language_info": {
   "codemirror_mode": {
    "name": "ipython",
    "version": 3
   },
   "file_extension": ".py",
   "mimetype": "text/x-python",
   "name": "python",
   "nbconvert_exporter": "python",
   "pygments_lexer": "ipython3",
   "version": "3.11.3"
  },
  "orig_nbformat": 4
 },
 "nbformat": 4,
 "nbformat_minor": 2
}
